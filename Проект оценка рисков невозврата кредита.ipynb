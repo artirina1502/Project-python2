{
 "cells": [
  {
   "cell_type": "markdown",
   "metadata": {
    "tags": []
   },
   "source": [
    "## **Описание проекта: оценка рисков невозврата кредита**\n",
    "\n",
    "В вашем распоряжении данные клиентов банка «Скрудж», которые планируют взять кредит. Вам необходимо выяснить, что из имеющихся данных влияет на своевременное погашение кредита и каким именно образом.\n",
    "\n",
    "Исследование поможет в создании модели кредитного скоринга — системы для оценки способности потенциального заёмщика погасить свой кредит.\n",
    "\n",
    "По каждому клиенту есть информация о его семейном положении, образовании, доходе и другие данные. Вам предстоит подготовить данные к анализу и исследовать их, в процессе отвечая на вопросы.\n",
    "\n",
    "### Описание данных\n",
    "\n",
    "- `children` — количество детей в семье;\n",
    "- `days_employed` — сколько дней работает клиент;\n",
    "- `dob_years` — возраст клиента;\n",
    "- `education` — уровень образования клиента;\n",
    "- `education_id` — идентификатор образования клиента;\n",
    "- `family_status` — семейное положение клиента;\n",
    "- `family_status_id` — идентификатор семейного положения клиента;\n",
    "- `gender` — пол клиента;\n",
    "- `income_type` — тип дохода клиента;\n",
    "- `debt` — был ли у клиента когда-либо просрочен платёж по кредиту;\n",
    "- `total_income` — ежемесячный доход;\n",
    "- `purpose` — причина оформления кредита.\n",
    "\n"
   ]
  },
  {
   "cell_type": "markdown",
   "metadata": {
    "tags": []
   },
   "source": [
    "\n",
    "## Шаг 1. Откройте файл с данными и изучите общую информацию\n",
    "\n",
    "1. Загрузите датасет.\n",
    "2. Сделайте копию датасета.\n",
    "3. Изучите типы данных и определите, соответствуют ли они содержимому. \n",
    "4. Напишите вывод.\n",
    "\n"
   ]
  },
  {
   "cell_type": "markdown",
   "metadata": {
    "tags": []
   },
   "source": [
    "\n"
   ]
  },
  {
   "cell_type": "code",
   "execution_count": 1,
   "metadata": {
    "tags": []
   },
   "outputs": [],
   "source": [
    "# Импортируйте библиотеки для работы\n",
    "# с таблицами и графиками\n",
    "import pandas as pd\n",
    "import seaborn as sns\n",
    "import matplotlib.pyplot as plt\n"
   ]
  },
  {
   "cell_type": "code",
   "execution_count": 2,
   "metadata": {
    "tags": []
   },
   "outputs": [],
   "source": [
    "# Загрузите датасет в переменную df_raw или другую по вашему выбору.\n",
    "# Он доступен по адресу <https://code.s3.yandex.net/datasets/credit_scoring_eng.csv>\n",
    "# а при работе на платформе по адресу /datasets/credit_scoring_eng.csv\n",
    "\n",
    "df_raw = pd.read_csv('/datasets/credit_scoring_eng.csv')"
   ]
  },
  {
   "cell_type": "code",
   "execution_count": 3,
   "metadata": {
    "tags": []
   },
   "outputs": [],
   "source": [
    "# При помощи метода .copy() скопируйте датасет\n",
    "# для работы с ним в переменную df или другую\n",
    "\n",
    "df = df_raw.copy()"
   ]
  },
  {
   "cell_type": "code",
   "execution_count": 4,
   "metadata": {
    "tags": []
   },
   "outputs": [
    {
     "name": "stdout",
     "output_type": "stream",
     "text": [
      "   children  days_employed  dob_years            education  education_id  \\\n",
      "0         1   -8437.673028         42    bachelor's degree             0   \n",
      "1         1   -4024.803754         36  secondary education             1   \n",
      "2         0   -5623.422610         33  Secondary Education             1   \n",
      "3         3   -4124.747207         32  secondary education             1   \n",
      "4         0  340266.072047         53  secondary education             1   \n",
      "\n",
      "       family_status  family_status_id gender income_type  debt  total_income  \\\n",
      "0            married                 0      F    employee     0     40620.102   \n",
      "1            married                 0      F    employee     0     17932.802   \n",
      "2            married                 0      M    employee     0     23341.752   \n",
      "3            married                 0      M    employee     0     42820.568   \n",
      "4  civil partnership                 1      F     retiree     0     25378.572   \n",
      "\n",
      "                   purpose  \n",
      "0    purchase of the house  \n",
      "1             car purchase  \n",
      "2    purchase of the house  \n",
      "3  supplementary education  \n",
      "4        to have a wedding  \n",
      "           children  days_employed     dob_years  education_id  \\\n",
      "count  21525.000000   19351.000000  21525.000000  21525.000000   \n",
      "mean       0.538908   63046.497661     43.293380      0.817236   \n",
      "std        1.381587  140827.311974     12.574584      0.548138   \n",
      "min       -1.000000  -18388.949901      0.000000      0.000000   \n",
      "25%        0.000000   -2747.423625     33.000000      1.000000   \n",
      "50%        0.000000   -1203.369529     42.000000      1.000000   \n",
      "75%        1.000000    -291.095954     53.000000      1.000000   \n",
      "max       20.000000  401755.400475     75.000000      4.000000   \n",
      "\n",
      "       family_status_id          debt   total_income  \n",
      "count      21525.000000  21525.000000   19351.000000  \n",
      "mean           0.972544      0.080883   26787.568355  \n",
      "std            1.420324      0.272661   16475.450632  \n",
      "min            0.000000      0.000000    3306.762000  \n",
      "25%            0.000000      0.000000   16488.504500  \n",
      "50%            0.000000      0.000000   23202.870000  \n",
      "75%            1.000000      0.000000   32549.611000  \n",
      "max            4.000000      1.000000  362496.645000  \n",
      "children              int64\n",
      "days_employed       float64\n",
      "dob_years             int64\n",
      "education            object\n",
      "education_id          int64\n",
      "family_status        object\n",
      "family_status_id      int64\n",
      "gender               object\n",
      "income_type          object\n",
      "debt                  int64\n",
      "total_income        float64\n",
      "purpose              object\n",
      "dtype: object\n",
      "<class 'pandas.core.frame.DataFrame'>\n",
      "RangeIndex: 21525 entries, 0 to 21524\n",
      "Data columns (total 12 columns):\n",
      " #   Column            Non-Null Count  Dtype  \n",
      "---  ------            --------------  -----  \n",
      " 0   children          21525 non-null  int64  \n",
      " 1   days_employed     19351 non-null  float64\n",
      " 2   dob_years         21525 non-null  int64  \n",
      " 3   education         21525 non-null  object \n",
      " 4   education_id      21525 non-null  int64  \n",
      " 5   family_status     21525 non-null  object \n",
      " 6   family_status_id  21525 non-null  int64  \n",
      " 7   gender            21525 non-null  object \n",
      " 8   income_type       21525 non-null  object \n",
      " 9   debt              21525 non-null  int64  \n",
      " 10  total_income      19351 non-null  float64\n",
      " 11  purpose           21525 non-null  object \n",
      "dtypes: float64(2), int64(5), object(5)\n",
      "memory usage: 2.0+ MB\n",
      "None\n"
     ]
    }
   ],
   "source": [
    "# Изучите общую информацию о датасете\n",
    "\n",
    "print(df.head())\n",
    "print(df.describe())\n",
    "print(df.dtypes)\n",
    "print(df.info())"
   ]
  },
  {
   "cell_type": "markdown",
   "metadata": {
    "tags": []
   },
   "source": [
    "<div class=\"alert alert-info\">\n",
    "<b>Комментарий студента:</b>\n",
    "<br> Датафрейм содержит 21525 строк. В столбце days_employed и children есть отрицательные значения, что является некорректным. Много пропущенных значений в колонках days_employed и total_income. \n",
    "</div>\n"
   ]
  },
  {
   "cell_type": "markdown",
   "metadata": {
    "tags": []
   },
   "source": [
    "\n",
    "## Шаг 2. Выполните предобработку данных\n",
    "\n"
   ]
  },
  {
   "cell_type": "markdown",
   "metadata": {
    "tags": []
   },
   "source": [
    "\n",
    "1. Найдите и изучите пропущенные значения в столбцах. \n",
    "2. Устраните пропущенные значения: удалите или замените их. \n",
    "3. Объясните выбранную стратегию обработки пропущенных значений.\n",
    "\n"
   ]
  },
  {
   "cell_type": "markdown",
   "metadata": {
    "tags": []
   },
   "source": [
    "\n"
   ]
  },
  {
   "cell_type": "code",
   "execution_count": 5,
   "metadata": {
    "tags": []
   },
   "outputs": [
    {
     "name": "stdout",
     "output_type": "stream",
     "text": [
      "Количество строк в датафрейме: (21525, 12)\n",
      "Количество пропущенных значений по столбцам\n",
      "children               0\n",
      "days_employed       2174\n",
      "dob_years              0\n",
      "education              0\n",
      "education_id           0\n",
      "family_status          0\n",
      "family_status_id       0\n",
      "gender                 0\n",
      "income_type            0\n",
      "debt                   0\n",
      "total_income        2174\n",
      "purpose                0\n",
      "dtype: int64\n",
      "Количество пропущенных значений в стобце total_income\n",
      "2174\n",
      "Количество пропущенных значений по столбцам после замены\n",
      "children            0\n",
      "days_employed       0\n",
      "dob_years           0\n",
      "education           0\n",
      "education_id        0\n",
      "family_status       0\n",
      "family_status_id    0\n",
      "gender              0\n",
      "income_type         0\n",
      "debt                0\n",
      "total_income        0\n",
      "purpose             0\n",
      "dtype: int64\n"
     ]
    }
   ],
   "source": [
    "# Место для вашего кода\n",
    "# Подсчитаем объём данных:\n",
    "print('Количество строк в датафрейме:', df.shape)\n",
    "\n",
    "# Подсчитаем количество пропущенных значений:\n",
    "print('Количество пропущенных значений по столбцам')\n",
    "print(df.isna().sum())\n",
    "\n",
    "df_days_employed = df.loc[df['days_employed'].isna(), 'total_income']\n",
    "print('Количество пропущенных значений в стобце total_income')\n",
    "print(df_days_employed.isna().sum())\n",
    "\n",
    "# Заменим значение в days_employed на 0:\n",
    "df.fillna({'days_employed':0, 'total_income':0}, inplace = True)\n",
    "\n",
    "print('Количество пропущенных значений по столбцам после замены')\n",
    "print(df.isna().sum())\n"
   ]
  },
  {
   "cell_type": "markdown",
   "metadata": {
    "tags": []
   },
   "source": [
    "\n",
    "<div class=\"alert alert-info\">\n",
    "<b>Комментарий студента:</b>\n",
    "<br> Пропуски находятся в колонках days_employed и total_income. Скорее всего, пропущенные значения в days_employed означают, что человек не работал. Их можно заменить на 0. Также у этих столбцов одинаковое количество пропусков. Возможно пропуски находятся в одной строке. Если да, то пропуски в двух столбцах можно заменить на 0.\n",
    "</div>\n"
   ]
  },
  {
   "cell_type": "markdown",
   "metadata": {
    "tags": []
   },
   "source": [
    "\n",
    "1. Изучите уникальные значения в столбцах с уровнем образования (`education`) и полом клиента (`gender`). \n",
    "2. Устраните неявные дубликаты и некорректные значения.\n",
    "\n"
   ]
  },
  {
   "cell_type": "code",
   "execution_count": 6,
   "metadata": {
    "tags": []
   },
   "outputs": [
    {
     "name": "stdout",
     "output_type": "stream",
     "text": [
      "[\"bachelor's degree\" 'secondary education' 'Secondary Education'\n",
      " 'SECONDARY EDUCATION' \"BACHELOR'S DEGREE\" 'some college'\n",
      " 'primary education' \"Bachelor's Degree\" 'SOME COLLEGE' 'Some College'\n",
      " 'PRIMARY EDUCATION' 'Primary Education' 'Graduate Degree'\n",
      " 'GRADUATE DEGREE' 'graduate degree']\n",
      "['F' 'M' 'XNA']\n",
      "[\"bachelor's degree\" 'secondary education' 'some college'\n",
      " 'primary education' 'graduate degree']\n",
      "['F' 'M']\n"
     ]
    }
   ],
   "source": [
    "# Место для вашего кода\n",
    "# вывод уникальных значений\n",
    "print(df['education'].unique())\n",
    "print(df['gender'].unique())\n",
    "\n",
    "# единый шрифт для столбца education\n",
    "df['education']=df['education'].str.lower()\n",
    "\n",
    "# удаление неверного значения\n",
    "df = df[df['gender'] != 'XNA']\n",
    "\n",
    "# проверка\n",
    "print(df['education'].unique())\n",
    "print(df['gender'].unique())"
   ]
  },
  {
   "cell_type": "markdown",
   "metadata": {
    "tags": []
   },
   "source": [
    "<div class=\"alert alert-info\">\n",
    "<b>Комментарий студента:</b>\n",
    "<br> В столбце education есть неявные дубликаты, которые написаны разным шрифтом. В столбце gender есть некорректное значение XNA.\n",
    "</div>\n"
   ]
  },
  {
   "cell_type": "markdown",
   "metadata": {
    "tags": []
   },
   "source": [
    "\n",
    "1. Проверьте наличие дубликатов. Изучите дублированные данные, если они есть, и примите решение — удалять их или оставить.\n",
    "\n"
   ]
  },
  {
   "cell_type": "code",
   "execution_count": 7,
   "metadata": {
    "tags": []
   },
   "outputs": [
    {
     "name": "stdout",
     "output_type": "stream",
     "text": [
      "       children  days_employed  dob_years            education  education_id  \\\n",
      "2849          0            0.0         41  secondary education             1   \n",
      "3290          0            0.0         58  secondary education             1   \n",
      "4182          1            0.0         34    bachelor's degree             0   \n",
      "4851          0            0.0         60  secondary education             1   \n",
      "5557          0            0.0         58  secondary education             1   \n",
      "...         ...            ...        ...                  ...           ...   \n",
      "20702         0            0.0         64  secondary education             1   \n",
      "21032         0            0.0         60  secondary education             1   \n",
      "21132         0            0.0         47  secondary education             1   \n",
      "21281         1            0.0         30    bachelor's degree             0   \n",
      "21415         0            0.0         54  secondary education             1   \n",
      "\n",
      "           family_status  family_status_id gender income_type  debt  \\\n",
      "2849             married                 0      F    employee     0   \n",
      "3290   civil partnership                 1      F     retiree     0   \n",
      "4182   civil partnership                 1      F    employee     0   \n",
      "4851   civil partnership                 1      F     retiree     0   \n",
      "5557   civil partnership                 1      F     retiree     0   \n",
      "...                  ...               ...    ...         ...   ...   \n",
      "20702            married                 0      F     retiree     0   \n",
      "21032            married                 0      F     retiree     0   \n",
      "21132            married                 0      F    employee     0   \n",
      "21281            married                 0      F    employee     0   \n",
      "21415            married                 0      F     retiree     0   \n",
      "\n",
      "       total_income                              purpose  \n",
      "2849            0.0  purchase of the house for my family  \n",
      "3290            0.0                    to have a wedding  \n",
      "4182            0.0                     wedding ceremony  \n",
      "4851            0.0                     wedding ceremony  \n",
      "5557            0.0                    to have a wedding  \n",
      "...             ...                                  ...  \n",
      "20702           0.0              supplementary education  \n",
      "21032           0.0                   to become educated  \n",
      "21132           0.0                   housing renovation  \n",
      "21281           0.0           buy commercial real estate  \n",
      "21415           0.0                 housing transactions  \n",
      "\n",
      "[71 rows x 12 columns]\n"
     ]
    }
   ],
   "source": [
    "# Место для вашего кода\n",
    "# Вывод среза данных строк-дубликатов:\n",
    "print(df[df.duplicated(keep='first')]) "
   ]
  },
  {
   "cell_type": "markdown",
   "metadata": {
    "tags": []
   },
   "source": [
    "<div class=\"alert alert-info\">\n",
    "<b>Комментарий студента:</b>\n",
    "<br> Дубликаты есть, но их нужно оставить, т.к у клиентов эти данные могут повторяться.\n",
    "</div>\n"
   ]
  },
  {
   "cell_type": "markdown",
   "metadata": {
    "tags": []
   },
   "source": [
    "\n",
    "## Шаг 3. Выбросы и аномальные значения\n",
    "\n",
    "Изучите столбцы `total_income`, `dob_age`, `chidlren` на наличие выбросов и аномальных значений, в том числе при помощи графиков. Если выбросы или аномалии будут обнаружены — обоснованно примите решение об их судьбе. Используйте подзаголовки третьего уровня (`### Подзаголовок`), чтобы создать структуру действий в рамках этого шага.\n",
    "\n"
   ]
  },
  {
   "cell_type": "markdown",
   "metadata": {
    "tags": []
   },
   "source": [
    "\n"
   ]
  },
  {
   "cell_type": "code",
   "execution_count": 8,
   "metadata": {
    "tags": []
   },
   "outputs": [
    {
     "data": {
      "text/plain": [
       "Text(0.5, 1.0, 'children')"
      ]
     },
     "execution_count": 8,
     "metadata": {},
     "output_type": "execute_result"
    },
    {
     "data": {
      "image/png": "[encoded data removed]",
      "text/plain": [
       "<Figure size 432x288 with 1 Axes>"
      ]
     },
     "metadata": {
      "needs_background": "light"
     },
     "output_type": "display_data"
    },
    {
     "data": {
      "image/png": "[encoded data removed]",
      "text/plain": [
       "<Figure size 432x288 with 1 Axes>"
      ]
     },
     "metadata": {
      "needs_background": "light"
     },
     "output_type": "display_data"
    },
    {
     "data": {
      "image/png": "[encoded data removed]",
      "text/plain": [
       "<Figure size 432x288 with 1 Axes>"
      ]
     },
     "metadata": {
      "needs_background": "light"
     },
     "output_type": "display_data"
    },
    {
     "data": {
      "image/png": "[encoded data removed]",
      "text/plain": [
       "<Figure size 432x288 with 1 Axes>"
      ]
     },
     "metadata": {
      "needs_background": "light"
     },
     "output_type": "display_data"
    }
   ],
   "source": [
    "# Место для вашего кода\n",
    "# построение ящиков с усами\n",
    "plt.figure()\n",
    "sns.boxplot(data = df, x = 'total_income')\n",
    "plt.title('total_income')\n",
    "\n",
    "plt.figure()\n",
    "sns.boxplot(data = df, x = 'dob_years')\n",
    "plt.title('dob_years')\n",
    "\n",
    "plt.figure()\n",
    "sns.boxplot(data = df, x = 'children')\n",
    "plt.title('children')\n",
    "\n",
    "# удаление аномального значения в столбце 'dob_years'\n",
    "df = df[df['dob_years'] >= 18]\n",
    "\n",
    "# удалить значение, где 20 детей и оставить положительные значения\n",
    "df = df[df['children'] != 20]\n",
    "df = df[df['children'] >= 0]\n",
    "\n",
    "plt.figure()\n",
    "sns.boxplot(data = df, x = 'children')\n",
    "plt.title('children')"
   ]
  },
  {
   "cell_type": "markdown",
   "metadata": {
    "tags": []
   },
   "source": [
    "<div class=\"alert alert-info\">\n",
    "<b>Комментарий студента:</b>\n",
    "    <br> Доход: Есть очень высокое значение 350000, но оно не является некорректным, т.к клиент может иметь такой доход. \n",
    "    Возраст: есть аномально низкое значение, которое необходимо удалить.\n",
    "    Дети: есть аномально высокое значение 20\n",
    "</div>"
   ]
  },
  {
   "cell_type": "markdown",
   "metadata": {},
   "source": [
    "<div class=\"alert alert-info\">\n",
    "<b>Комментарий студента:</b>\n",
    "    <br> Убрала \"\" и удалила числовое значение 20, построила график, чтобы проверить.\n",
    "</div>"
   ]
  },
  {
   "cell_type": "markdown",
   "metadata": {
    "tags": []
   },
   "source": [
    "\n",
    "## Шаг 4. Добавьте в таблицу новые столбцы\n",
    "\n"
   ]
  },
  {
   "cell_type": "markdown",
   "metadata": {
    "tags": []
   },
   "source": [
    "\n",
    "1. **Разделите клиентов на 5 категорий по уровню дохода:**\n",
    "- Без дохода — люди без работы и с нулевым доходом.\n",
    "- Очень низкий доход — люди, получающие ниже 14 процентиля от общего распределения дохода.\n",
    "- Низкий доход — люди, получающие между 14 и 34 процентилями от общего распределения дохода.\n",
    "- Средний доход — люди, получающие между 34 и 78 процентилями от общего распределения дохода.\n",
    "- Высокий доход — люди, получающие больше 78 процентиля от общего распределения дохода.\n",
    "\n"
   ]
  },
  {
   "cell_type": "code",
   "execution_count": 9,
   "metadata": {
    "tags": []
   },
   "outputs": [
    {
     "name": "stdout",
     "output_type": "stream",
     "text": [
      "Средний доход         0.439979\n",
      "Высокий доход         0.219990\n",
      "Низкий доход          0.199991\n",
      "Без дохода            0.101028\n",
      "Очень низкий доход    0.039012\n",
      "Name: income_category, dtype: float64\n"
     ]
    }
   ],
   "source": [
    "# Место для вашего кода\n",
    "def income(total_income):\n",
    "    if total_income <= 0:\n",
    "        return 'Без дохода'\n",
    "    elif total_income < df['total_income'].quantile(0.14):\n",
    "        return 'Очень низкий доход'\n",
    "    elif total_income <= df['total_income'].quantile(0.34):\n",
    "        return 'Низкий доход'\n",
    "    elif total_income <= df['total_income'].quantile(0.78):\n",
    "        return 'Средний доход'\n",
    "    elif total_income >= df['total_income'].quantile(0.78):\n",
    "        return 'Высокий доход'\n",
    "\n",
    "# Создадим новый столбец с категориями дохода:\n",
    "df['income_category'] = df['total_income'].apply(income)\n",
    "\n",
    "print(df['income_category'].value_counts(normalize=True))"
   ]
  },
  {
   "cell_type": "markdown",
   "metadata": {
    "tags": []
   },
   "source": [
    "\n",
    "1. Разделите клиентов на две категории по возрасту: до 40 лет и после. Сохраните результат в колонке `age_category`.\n",
    "\n"
   ]
  },
  {
   "cell_type": "code",
   "execution_count": 10,
   "metadata": {
    "tags": []
   },
   "outputs": [
    {
     "name": "stdout",
     "output_type": "stream",
     "text": [
      "после 40 лет    0.586639\n",
      "до 40 лет       0.413361\n",
      "Name: age_category, dtype: float64\n"
     ]
    }
   ],
   "source": [
    "# Место для вашего кода\n",
    "def age(dob_years):\n",
    "    if dob_years < 40:\n",
    "        return 'до 40 лет'\n",
    "    elif dob_years >= 40:\n",
    "        return 'после 40 лет'\n",
    "\n",
    "# Создадим новый столбец с категориями дохода:\n",
    "df['age_category'] = df['dob_years'].apply(age)\n",
    "\n",
    "print(df['age_category'].value_counts(normalize=True))"
   ]
  },
  {
   "cell_type": "markdown",
   "metadata": {
    "tags": []
   },
   "source": [
    "\n",
    "1. Разделите клиентов на несколько категорий по количеству детей: без детей, от одного до двух, от трёх и больше. Сохраните результат в колонке `childrens_category`.\n",
    "\n"
   ]
  },
  {
   "cell_type": "code",
   "execution_count": 11,
   "metadata": {
    "tags": []
   },
   "outputs": [
    {
     "name": "stdout",
     "output_type": "stream",
     "text": [
      "без детей            0.660955\n",
      "от одного до двух    0.321299\n",
      "от трёх и больше     0.017746\n",
      "Name: childrens_category, dtype: float64\n"
     ]
    }
   ],
   "source": [
    "# Место для вашего кода\n",
    "# названия категорий\n",
    "cat_names = ['без детей', 'от одного до двух', 'от трёх и больше']\n",
    "bins = [-1, 0, 2, float('inf')]\n",
    "df['childrens_category'] = pd.cut(df['children'], bins=bins, labels=cat_names)\n",
    "print(df['childrens_category'].value_counts(normalize=True))"
   ]
  },
  {
   "cell_type": "markdown",
   "metadata": {
    "tags": []
   },
   "source": [
    "\n",
    "## Шаг 5. Проведите исследовательский анализ данных\n",
    "\n"
   ]
  },
  {
   "cell_type": "markdown",
   "metadata": {
    "tags": []
   },
   "source": [
    "\n",
    "Задайте структуру наиболее объёмной части исследования. Исследуйте факторы: `Уровень дохода`, `Образование`, `Возраст`, `Количество детей`. Отличается ли распределение между должниками и нет? Исследуйте вопрос графически. Постройте сводную таблицу по каждому фактору и покажите, как часто встречаются должники в каждой группе клиентов. Выберите подходящую визуализацию и сравните 2 группы.\n",
    "\n"
   ]
  },
  {
   "cell_type": "code",
   "execution_count": 12,
   "metadata": {
    "tags": []
   },
   "outputs": [
    {
     "name": "stdout",
     "output_type": "stream",
     "text": [
      "age_category        до 40 лет  после 40 лет\n",
      "income_category                            \n",
      "Без дохода                 86            84\n",
      "Высокий доход             159           169\n",
      "Низкий доход              180           172\n",
      "Очень низкий доход         20            30\n",
      "Средний доход             452           372\n",
      "age_category         до 40 лет  после 40 лет\n",
      "education                                   \n",
      "bachelor's degree          154           123\n",
      "graduate degree              0             0\n",
      "primary education           19            12\n",
      "secondary education        675           673\n",
      "some college                49            19\n",
      "age_category        до 40 лет  после 40 лет\n",
      "childrens_category                         \n",
      "без детей                 434           624\n",
      "от одного до двух         441           194\n",
      "от трёх и больше           22             9\n"
     ]
    },
    {
     "data": {
      "image/png": "[encoded data removed]",
      "text/plain": [
       "<Figure size 432x288 with 1 Axes>"
      ]
     },
     "metadata": {
      "needs_background": "light"
     },
     "output_type": "display_data"
    },
    {
     "name": "stdout",
     "output_type": "stream",
     "text": [
      "Вывод: люди после 40 лет реже имеют просрочки по кредиту. У людей с низким доходом сильно отличается\n",
      "    количество долгов по возрасту. Больше всего просрочек у людей со средним доходом всех возрастов.\n"
     ]
    },
    {
     "data": {
      "image/png": "[encoded data removed]",
      "text/plain": [
       "<Figure size 432x288 with 1 Axes>"
      ]
     },
     "metadata": {
      "needs_background": "light"
     },
     "output_type": "display_data"
    },
    {
     "name": "stdout",
     "output_type": "stream",
     "text": [
      "Вывод: люди с ученой степенью не имеют просрочек по кредиту. Самое высокое количество долгов у людей \n",
      "до 40 лет с начальным и средним образованием.\n"
     ]
    },
    {
     "data": {
      "image/png": "[encoded data removed]",
      "text/plain": [
       "<Figure size 432x288 with 1 Axes>"
      ]
     },
     "metadata": {
      "needs_background": "light"
     },
     "output_type": "display_data"
    },
    {
     "name": "stdout",
     "output_type": "stream",
     "text": [
      "Вывод: самый маленький показатель по долгам у тех, кто старше 40 лет и не имеет детей. \n",
      "У людей до 40 лет, кто без детей или имеет 1-2 ребенка количество должников не сильно отличается.\n"
     ]
    }
   ],
   "source": [
    "# Место для вашего кода\n",
    "# Сводные таблицы по доходу, образованию, детям\n",
    "df_pivot_income = df.pivot_table(index='income_category',\n",
    "               columns='age_category',      # Строки сводной таблицы\n",
    "               values='debt', # То, что будет агрегироваться\n",
    "               aggfunc='sum') # Агрегирующая функция  \n",
    "print(df_pivot_income)\n",
    "\n",
    "df_pivot_education = df.pivot_table(index='education',\n",
    "               columns='age_category',      # Строки сводной таблицы\n",
    "               values='debt', # То, что будет агрегироваться\n",
    "               aggfunc='sum') # Агрегирующая функция  \n",
    "print(df_pivot_education)\n",
    "\n",
    "df_pivot_child = df.pivot_table(index='childrens_category',\n",
    "               columns='age_category',      # Строки сводной таблицы\n",
    "               values='debt', # То, что будет агрегироваться\n",
    "               aggfunc='sum') # Агрегирующая функция  \n",
    "print(df_pivot_child)\n",
    "\n",
    "plt.figure()\n",
    "sns.barplot(data = df, x = 'income_category', y = 'debt', palette = 'twilight_shifted', hue = 'age_category')\n",
    "plt.title('Сравнение количества должников в зависимости от дохода')\n",
    "plt.legend(title='Возраст', loc='upper left')\n",
    "plt.xticks(rotation=45)\n",
    "plt.show()\n",
    "\n",
    "print(\"\"\"Вывод: люди после 40 лет реже имеют просрочки по кредиту. У людей с низким доходом сильно отличается\n",
    "    количество долгов по возрасту. Больше всего просрочек у людей со средним доходом всех возрастов.\"\"\")\n",
    "\n",
    "plt.figure()\n",
    "sns.barplot(data = df, x = 'education', y = 'debt', palette = 'pastel', hue = 'age_category')\n",
    "plt.title('Сравнение количества должников в зависимости от образования')\n",
    "plt.legend(title='Возраст', loc='upper left')\n",
    "plt.xticks(rotation=45)\n",
    "plt.show()\n",
    "\n",
    "print(\"\"\"Вывод: люди с ученой степенью не имеют просрочек по кредиту. Самое высокое количество долгов у людей \n",
    "до 40 лет с начальным и средним образованием.\"\"\")\n",
    "\n",
    "plt.figure()\n",
    "sns.barplot(data = df, x = 'childrens_category', y = 'debt', palette = 'dark', hue = 'age_category')\n",
    "plt.title('Сравнение количества должников в зависимости от количества детей')\n",
    "plt.legend(title='Возраст', loc='upper left')\n",
    "plt.xticks(rotation=45)\n",
    "plt.show()\n",
    "\n",
    "print(\"\"\"Вывод: самый маленький показатель по долгам у тех, кто старше 40 лет и не имеет детей. \n",
    "У людей до 40 лет, кто без детей или имеет 1-2 ребенка количество должников не сильно отличается.\"\"\")"
   ]
  },
  {
   "cell_type": "markdown",
   "metadata": {
    "tags": []
   },
   "source": [
    "\n",
    "***Проверьте исследовательскую гипотезу***: у клиентов с детьми более высокий уровень финансовой ответственности и, следовательно, более низкий риск просрочек по кредиту.\n",
    "\n"
   ]
  },
  {
   "cell_type": "code",
   "execution_count": 13,
   "metadata": {
    "tags": []
   },
   "outputs": [
    {
     "name": "stdout",
     "output_type": "stream",
     "text": [
      "                    debt_ratio\n",
      "childrens_category            \n",
      "без детей             0.075147\n",
      "от одного до двух     0.092782\n",
      "от трёх и больше      0.082011\n"
     ]
    }
   ],
   "source": [
    "# Количество клиентов без детей с долгом\n",
    "part_no_child = df.query('childrens_category == \"без детей\" and debt == 1').shape[0] / df.query('childrens_category == \"без детей\"').shape[0]\n",
    "\n",
    "# Количество клиентов с долгом 1-2 детей\n",
    "part_one_two = df.query('childrens_category == \"от одного до двух\" and debt == 1').shape[0] / df.query('childrens_category == \"от одного до двух\"').shape[0]\n",
    "\n",
    "# Количество клиентов с долгом 3 и больше детей\n",
    "part_three_more = df.query('childrens_category == \"от трёх и больше\" and debt == 1').shape[0] / df.query('childrens_category == \"от трёх и больше\"').shape[0]\n",
    "\n",
    "# Новый DataFrame с рассчитанными долями должников\n",
    "df_debt_ratios = pd.DataFrame({\n",
    "    'childrens_category': ['без детей', 'от одного до двух', 'от трёх и больше'],\n",
    "    'debt_ratio': [part_no_child, part_one_two, part_three_more]\n",
    "})\n",
    "\n",
    "# Создание сводной таблицы\n",
    "df_pivot_child = df_debt_ratios.pivot_table(\n",
    "    index='childrens_category',\n",
    "    values='debt_ratio'\n",
    ")\n",
    "print(df_pivot_child)"
   ]
  },
  {
   "cell_type": "markdown",
   "metadata": {},
   "source": [
    "<div class=\"alert alert-info\">\n",
    "<b>Комментарий студента:</b>\n",
    "    <br> Посчитала долю по категориям клиентов. Гипотеза не подтверждается, так как у клиентов с детьми большая доля должников. \n",
    "</div>"
   ]
  },
  {
   "cell_type": "markdown",
   "metadata": {
    "tags": []
   },
   "source": [
    "\n",
    "***Проверьте исследовательскую гипотезу***: одинокие мужчины с низким доходом чаще оказываются должниками, чем семейные мужчины со средним доходом.\n",
    "\n"
   ]
  },
  {
   "cell_type": "code",
   "execution_count": 14,
   "metadata": {
    "scrolled": true,
    "tags": []
   },
   "outputs": [
    {
     "name": "stdout",
     "output_type": "stream",
     "text": [
      "                                                    debt_ratio\n",
      "group                                                         \n",
      "Мужчины с низким доходом (разведённый, незамужн...    0.158879\n",
      "Мужчины со средним доходом (гражданский брак, ж...    0.103042\n"
     ]
    }
   ],
   "source": [
    "# мужчины с низким доходом и семейным статусом 'разведённый', 'незамужний' или 'вдова/вдовец'\n",
    "df_low_income = df.query('gender == \"M\" and income_category == \"Низкий доход\" and family_status in [\"divorced\", \"unmarried\", \"widow / widower\"]')\n",
    "\n",
    "# мужчины со средним доходом и семейным статусом 'гражданский брак' или 'женат'\n",
    "df_medium_income = df.query('gender == \"M\" and income_category == \"Средний доход\" and family_status in [\"civil partnership\", \"married\"]')\n",
    "\n",
    "# доля должников\n",
    "part_low_income = df_low_income['debt'].sum() / df_low_income.shape[0]\n",
    "part_medium_income = df_medium_income['debt'].sum() / df_medium_income.shape[0]\n",
    "\n",
    "man_df=pd.DataFrame({\n",
    "        'group': ['Мужчины с низким доходом (разведённый, незамужний, вдова/вдовец)', \n",
    "                  'Мужчины со средним доходом (гражданский брак, женат)'],\n",
    "        'debt_ratio': [part_low_income, part_medium_income]\n",
    "    })\n",
    "\n",
    "# Создание сводной таблицы\n",
    "df_pivot_debt = pd.pivot_table(\n",
    "    data=man_df,\n",
    "    index='group',\n",
    "    values='debt_ratio'\n",
    ")\n",
    "print(df_pivot_debt)"
   ]
  },
  {
   "cell_type": "markdown",
   "metadata": {},
   "source": [
    "<div class=\"alert alert-info\">\n",
    "<b>Комментарий студента:</b>\n",
    "    <br> Гипотеза верна, доля одиноких мужчин немного выше.\n",
    "</div>"
   ]
  },
  {
   "cell_type": "markdown",
   "metadata": {
    "tags": []
   },
   "source": [
    "\n",
    "## Шаг 6. Напишите общий вывод\n",
    "\n"
   ]
  },
  {
   "cell_type": "markdown",
   "metadata": {},
   "source": [
    "<div class=\"alert alert-info\">\n",
    "<b>Комментарий студента:</b>\n",
    "    <br> \n",
    "    Для построения графиков были выбранные столбчатые диаграммы, чтобы сравнить количество должников по группам. \n",
    "Люди после 40 лет реже имеют просрочки по кредиту. У людей с низким доходом сильно отличается\n",
    "количество долгов по возрасту. Больше всего просрочек у людей со средним доходом всех возрастов. \n",
    "Люди с ученой степенью не имеют просрочек по кредиту. Самое высокое количество долгов у людей \n",
    "до 40 лет с начальным и средним образованием. Гипотеза про многодетные семьи не подтверждается, так как у клиентов с детьми большая доля должников. Гипотеза про мужчин верна, доля должников среди одиноких мужчин немного выше.\n",
    "</div>"
   ]
  },
  {
   "cell_type": "markdown",
   "metadata": {
    "tags": []
   },
   "source": [
    "\n",
    "---"
   ]
  }
 ],
 "metadata": {
  "ExecuteTimeLog": [
   {
    "duration": 61,
    "start_time": "2025-02-10T19:23:27.658Z"
   },
   {
    "duration": 1514,
    "start_time": "2025-02-10T19:23:32.218Z"
   },
   {
    "duration": 59,
    "start_time": "2025-02-10T19:23:37.304Z"
   },
   {
    "duration": 4,
    "start_time": "2025-02-10T19:24:06.449Z"
   },
   {
    "duration": 68,
    "start_time": "2025-02-10T19:27:11.547Z"
   },
   {
    "duration": 9,
    "start_time": "2025-02-10T19:29:01.337Z"
   },
   {
    "duration": 10,
    "start_time": "2025-02-10T19:29:40.250Z"
   },
   {
    "duration": 3,
    "start_time": "2025-02-10T19:30:22.554Z"
   },
   {
    "duration": 65,
    "start_time": "2025-02-10T19:30:25.828Z"
   },
   {
    "duration": 2,
    "start_time": "2025-02-10T19:30:28.710Z"
   },
   {
    "duration": 9,
    "start_time": "2025-02-10T19:30:32.481Z"
   },
   {
    "duration": 5,
    "start_time": "2025-02-10T19:31:09.553Z"
   },
   {
    "duration": 11,
    "start_time": "2025-02-10T19:31:13.079Z"
   },
   {
    "duration": 36,
    "start_time": "2025-02-10T19:31:36.971Z"
   },
   {
    "duration": 73,
    "start_time": "2025-02-10T19:31:58.242Z"
   },
   {
    "duration": 29,
    "start_time": "2025-02-10T19:32:17.034Z"
   },
   {
    "duration": 21,
    "start_time": "2025-02-10T19:34:41.950Z"
   },
   {
    "duration": 34,
    "start_time": "2025-02-10T19:41:52.598Z"
   },
   {
    "duration": 50,
    "start_time": "2025-02-10T19:43:13.510Z"
   },
   {
    "duration": 39,
    "start_time": "2025-02-10T19:43:24.384Z"
   },
   {
    "duration": 37,
    "start_time": "2025-02-10T19:45:22.254Z"
   },
   {
    "duration": 78,
    "start_time": "2025-02-10T19:45:42.959Z"
   },
   {
    "duration": 38,
    "start_time": "2025-02-10T19:45:48.916Z"
   },
   {
    "duration": 51,
    "start_time": "2025-02-10T19:48:27.085Z"
   },
   {
    "duration": 16,
    "start_time": "2025-02-10T19:59:31.937Z"
   },
   {
    "duration": 17,
    "start_time": "2025-02-10T20:13:20.567Z"
   },
   {
    "duration": 20,
    "start_time": "2025-02-10T20:13:28.808Z"
   },
   {
    "duration": 21,
    "start_time": "2025-02-10T20:16:43.835Z"
   },
   {
    "duration": 15,
    "start_time": "2025-02-10T20:17:06.322Z"
   },
   {
    "duration": 15,
    "start_time": "2025-02-10T20:18:50.555Z"
   },
   {
    "duration": 15,
    "start_time": "2025-02-10T20:19:17.419Z"
   },
   {
    "duration": 17,
    "start_time": "2025-02-10T20:19:39.451Z"
   },
   {
    "duration": 24,
    "start_time": "2025-02-10T20:21:52.036Z"
   },
   {
    "duration": 25,
    "start_time": "2025-02-10T20:22:17.707Z"
   },
   {
    "duration": 21,
    "start_time": "2025-02-10T20:22:33.683Z"
   },
   {
    "duration": 20,
    "start_time": "2025-02-10T20:23:01.236Z"
   },
   {
    "duration": 90,
    "start_time": "2025-02-10T20:23:58.541Z"
   },
   {
    "duration": 21,
    "start_time": "2025-02-10T20:24:42.059Z"
   },
   {
    "duration": 22,
    "start_time": "2025-02-10T20:25:18.739Z"
   },
   {
    "duration": 26,
    "start_time": "2025-02-10T20:25:43.732Z"
   },
   {
    "duration": 53,
    "start_time": "2025-02-10T20:25:53.059Z"
   },
   {
    "duration": 4,
    "start_time": "2025-02-10T20:25:55.506Z"
   },
   {
    "duration": 44,
    "start_time": "2025-02-10T20:25:57.641Z"
   },
   {
    "duration": 21,
    "start_time": "2025-02-10T20:26:02.891Z"
   },
   {
    "duration": 12,
    "start_time": "2025-02-10T20:39:42.291Z"
   },
   {
    "duration": 1071,
    "start_time": "2025-02-10T20:39:52.749Z"
   },
   {
    "duration": 5,
    "start_time": "2025-02-10T20:40:06.637Z"
   },
   {
    "duration": 6,
    "start_time": "2025-02-10T20:40:34.643Z"
   },
   {
    "duration": 16,
    "start_time": "2025-02-10T20:45:39.486Z"
   },
   {
    "duration": 17,
    "start_time": "2025-02-10T20:45:57.108Z"
   },
   {
    "duration": 25,
    "start_time": "2025-02-10T20:47:25.632Z"
   },
   {
    "duration": 22,
    "start_time": "2025-02-10T20:48:29.532Z"
   },
   {
    "duration": 9,
    "start_time": "2025-02-10T20:48:51.612Z"
   },
   {
    "duration": 51,
    "start_time": "2025-02-10T20:49:05.583Z"
   },
   {
    "duration": 12,
    "start_time": "2025-02-10T20:49:12.269Z"
   },
   {
    "duration": 9,
    "start_time": "2025-02-10T20:49:17.051Z"
   },
   {
    "duration": 6,
    "start_time": "2025-02-10T20:49:24.116Z"
   },
   {
    "duration": 52,
    "start_time": "2025-02-10T20:49:34.194Z"
   },
   {
    "duration": 3,
    "start_time": "2025-02-10T20:49:36.419Z"
   },
   {
    "duration": 17,
    "start_time": "2025-02-10T20:49:44.420Z"
   },
   {
    "duration": 21,
    "start_time": "2025-02-10T20:53:57.907Z"
   },
   {
    "duration": 17,
    "start_time": "2025-02-10T21:07:05.834Z"
   },
   {
    "duration": 16,
    "start_time": "2025-02-10T21:07:09.965Z"
   },
   {
    "duration": 53,
    "start_time": "2025-02-10T21:07:23.150Z"
   },
   {
    "duration": 7,
    "start_time": "2025-02-10T21:07:30.937Z"
   },
   {
    "duration": 1190,
    "start_time": "2025-02-10T21:07:34.552Z"
   },
   {
    "duration": 57,
    "start_time": "2025-02-10T21:07:37.608Z"
   },
   {
    "duration": 4,
    "start_time": "2025-02-10T21:07:41.168Z"
   },
   {
    "duration": 53,
    "start_time": "2025-02-10T21:07:43.522Z"
   },
   {
    "duration": 22,
    "start_time": "2025-02-10T21:07:48.918Z"
   },
   {
    "duration": 23,
    "start_time": "2025-02-10T21:07:56.439Z"
   },
   {
    "duration": 18,
    "start_time": "2025-02-10T21:08:00.998Z"
   },
   {
    "duration": 15,
    "start_time": "2025-02-10T21:08:17.552Z"
   },
   {
    "duration": 25,
    "start_time": "2025-02-10T21:09:39.470Z"
   },
   {
    "duration": 1186,
    "start_time": "2025-02-10T21:15:33.766Z"
   },
   {
    "duration": 12,
    "start_time": "2025-02-10T21:15:48.410Z"
   },
   {
    "duration": 1089,
    "start_time": "2025-02-10T21:16:01.175Z"
   },
   {
    "duration": 116,
    "start_time": "2025-02-10T21:17:50.663Z"
   },
   {
    "duration": 112,
    "start_time": "2025-02-10T21:18:21.735Z"
   },
   {
    "duration": 105,
    "start_time": "2025-02-10T21:19:15.246Z"
   },
   {
    "duration": 1290,
    "start_time": "2025-02-10T21:20:35.365Z"
   },
   {
    "duration": 118,
    "start_time": "2025-02-10T21:21:01.829Z"
   },
   {
    "duration": 1193,
    "start_time": "2025-02-10T21:26:18.173Z"
   },
   {
    "duration": 1192,
    "start_time": "2025-02-10T21:29:17.875Z"
   },
   {
    "duration": 1323,
    "start_time": "2025-02-10T21:44:14.180Z"
   },
   {
    "duration": 1197,
    "start_time": "2025-02-10T21:44:58.139Z"
   },
   {
    "duration": 126,
    "start_time": "2025-02-10T21:47:17.147Z"
   },
   {
    "duration": 200,
    "start_time": "2025-02-10T21:47:33.674Z"
   },
   {
    "duration": 118,
    "start_time": "2025-02-10T21:47:53.243Z"
   },
   {
    "duration": 213,
    "start_time": "2025-02-10T21:48:44.075Z"
   },
   {
    "duration": 299,
    "start_time": "2025-02-10T21:48:55.082Z"
   },
   {
    "duration": 312,
    "start_time": "2025-02-10T21:50:59.866Z"
   },
   {
    "duration": 319,
    "start_time": "2025-02-10T22:04:19.559Z"
   },
   {
    "duration": 348,
    "start_time": "2025-02-10T22:06:53.677Z"
   },
   {
    "duration": 434,
    "start_time": "2025-02-10T22:07:11.480Z"
   },
   {
    "duration": 149,
    "start_time": "2025-02-10T22:08:13.289Z"
   },
   {
    "duration": 341,
    "start_time": "2025-02-10T22:08:25.928Z"
   },
   {
    "duration": 337,
    "start_time": "2025-02-10T22:08:41.705Z"
   },
   {
    "duration": 333,
    "start_time": "2025-02-10T22:08:48.088Z"
   },
   {
    "duration": 5,
    "start_time": "2025-02-10T22:09:09.602Z"
   },
   {
    "duration": 349,
    "start_time": "2025-02-10T22:09:17.742Z"
   },
   {
    "duration": 453,
    "start_time": "2025-02-10T22:09:22.990Z"
   },
   {
    "duration": 338,
    "start_time": "2025-02-10T22:09:29.986Z"
   },
   {
    "duration": 334,
    "start_time": "2025-02-10T22:09:35.415Z"
   },
   {
    "duration": 363,
    "start_time": "2025-02-10T22:10:37.687Z"
   },
   {
    "duration": 333,
    "start_time": "2025-02-10T22:10:46.662Z"
   },
   {
    "duration": 343,
    "start_time": "2025-02-10T22:15:32.856Z"
   },
   {
    "duration": 465,
    "start_time": "2025-02-10T22:15:57.870Z"
   },
   {
    "duration": 340,
    "start_time": "2025-02-10T22:16:38.781Z"
   },
   {
    "duration": 344,
    "start_time": "2025-02-10T22:17:01.598Z"
   },
   {
    "duration": 343,
    "start_time": "2025-02-10T22:17:16.544Z"
   },
   {
    "duration": 32,
    "start_time": "2025-02-10T22:17:55.487Z"
   },
   {
    "duration": 21,
    "start_time": "2025-02-10T22:18:02.488Z"
   },
   {
    "duration": 22,
    "start_time": "2025-02-10T22:18:16.631Z"
   },
   {
    "duration": 55,
    "start_time": "2025-02-10T22:18:25.774Z"
   },
   {
    "duration": 4,
    "start_time": "2025-02-10T22:18:27.679Z"
   },
   {
    "duration": 50,
    "start_time": "2025-02-10T22:18:29.967Z"
   },
   {
    "duration": 21,
    "start_time": "2025-02-10T22:18:34.671Z"
   },
   {
    "duration": 53,
    "start_time": "2025-02-11T13:28:14.267Z"
   },
   {
    "duration": 1579,
    "start_time": "2025-02-11T13:28:24.573Z"
   },
   {
    "duration": 110,
    "start_time": "2025-02-11T13:28:26.156Z"
   },
   {
    "duration": 4,
    "start_time": "2025-02-11T13:28:26.269Z"
   },
   {
    "duration": 58,
    "start_time": "2025-02-11T13:28:26.276Z"
   },
   {
    "duration": 40,
    "start_time": "2025-02-11T13:28:26.336Z"
   },
   {
    "duration": 34,
    "start_time": "2025-02-11T13:28:26.379Z"
   },
   {
    "duration": 61,
    "start_time": "2025-02-11T13:28:26.416Z"
   },
   {
    "duration": 387,
    "start_time": "2025-02-11T13:28:26.479Z"
   },
   {
    "duration": 2,
    "start_time": "2025-02-11T13:28:26.868Z"
   },
   {
    "duration": 13,
    "start_time": "2025-02-11T13:28:26.872Z"
   },
   {
    "duration": 9,
    "start_time": "2025-02-11T13:28:26.887Z"
   },
   {
    "duration": 7,
    "start_time": "2025-02-11T13:28:26.898Z"
   },
   {
    "duration": 8,
    "start_time": "2025-02-11T13:28:26.907Z"
   },
   {
    "duration": 8,
    "start_time": "2025-02-11T13:28:26.918Z"
   },
   {
    "duration": 13,
    "start_time": "2025-02-11T13:28:26.930Z"
   },
   {
    "duration": 3,
    "start_time": "2025-02-11T13:28:26.958Z"
   },
   {
    "duration": 5,
    "start_time": "2025-02-11T13:28:26.963Z"
   },
   {
    "duration": 95,
    "start_time": "2025-02-11T14:01:17.184Z"
   },
   {
    "duration": 95,
    "start_time": "2025-02-11T14:01:27.170Z"
   },
   {
    "duration": 50925,
    "start_time": "2025-02-11T14:01:39.315Z"
   },
   {
    "duration": 1265,
    "start_time": "2025-02-11T14:07:55.086Z"
   },
   {
    "duration": 66,
    "start_time": "2025-02-11T14:07:56.354Z"
   },
   {
    "duration": 4,
    "start_time": "2025-02-11T14:07:56.422Z"
   },
   {
    "duration": 82,
    "start_time": "2025-02-11T14:07:56.429Z"
   },
   {
    "duration": 21,
    "start_time": "2025-02-11T14:07:56.513Z"
   },
   {
    "duration": 41,
    "start_time": "2025-02-11T14:07:56.536Z"
   },
   {
    "duration": 27,
    "start_time": "2025-02-11T14:07:56.579Z"
   },
   {
    "duration": 380,
    "start_time": "2025-02-11T14:07:56.608Z"
   },
   {
    "duration": 4,
    "start_time": "2025-02-11T14:08:47.457Z"
   },
   {
    "duration": 19,
    "start_time": "2025-02-11T14:08:47.464Z"
   },
   {
    "duration": 33,
    "start_time": "2025-02-11T14:08:47.485Z"
   },
   {
    "duration": 42,
    "start_time": "2025-02-11T14:08:47.519Z"
   },
   {
    "duration": 51,
    "start_time": "2025-02-11T14:08:47.562Z"
   },
   {
    "duration": 14,
    "start_time": "2025-02-11T14:08:47.615Z"
   },
   {
    "duration": 11,
    "start_time": "2025-02-11T14:08:47.631Z"
   },
   {
    "duration": 24,
    "start_time": "2025-02-11T14:08:47.644Z"
   },
   {
    "duration": 1293,
    "start_time": "2025-02-11T14:09:06.330Z"
   },
   {
    "duration": 57,
    "start_time": "2025-02-11T14:09:07.626Z"
   },
   {
    "duration": 4,
    "start_time": "2025-02-11T14:09:07.684Z"
   },
   {
    "duration": 93,
    "start_time": "2025-02-11T14:09:07.689Z"
   },
   {
    "duration": 23,
    "start_time": "2025-02-11T14:09:07.785Z"
   },
   {
    "duration": 49,
    "start_time": "2025-02-11T14:09:07.810Z"
   },
   {
    "duration": 27,
    "start_time": "2025-02-11T14:09:07.861Z"
   },
   {
    "duration": 350,
    "start_time": "2025-02-11T14:09:07.890Z"
   },
   {
    "duration": 58,
    "start_time": "2025-02-11T14:09:34.643Z"
   },
   {
    "duration": 1225,
    "start_time": "2025-02-11T14:09:43.234Z"
   },
   {
    "duration": 58,
    "start_time": "2025-02-11T14:09:45.428Z"
   },
   {
    "duration": 3,
    "start_time": "2025-02-11T14:09:46.947Z"
   },
   {
    "duration": 52,
    "start_time": "2025-02-11T14:09:49.461Z"
   },
   {
    "duration": 22,
    "start_time": "2025-02-11T14:09:53.076Z"
   },
   {
    "duration": 23,
    "start_time": "2025-02-11T14:09:56.257Z"
   },
   {
    "duration": 27,
    "start_time": "2025-02-11T14:10:00.139Z"
   },
   {
    "duration": 350,
    "start_time": "2025-02-11T14:10:04.173Z"
   },
   {
    "duration": 50564,
    "start_time": "2025-02-11T14:10:59.275Z"
   },
   {
    "duration": 12,
    "start_time": "2025-02-11T14:17:43.816Z"
   },
   {
    "duration": 12,
    "start_time": "2025-02-11T14:19:41.311Z"
   },
   {
    "duration": 12,
    "start_time": "2025-02-11T14:19:52.832Z"
   },
   {
    "duration": 13,
    "start_time": "2025-02-11T14:19:54.968Z"
   },
   {
    "duration": 13,
    "start_time": "2025-02-11T14:20:16.514Z"
   },
   {
    "duration": 13,
    "start_time": "2025-02-11T14:23:28.104Z"
   },
   {
    "duration": 12,
    "start_time": "2025-02-11T14:23:42.856Z"
   },
   {
    "duration": 1294,
    "start_time": "2025-02-11T14:25:05.844Z"
   },
   {
    "duration": 56,
    "start_time": "2025-02-11T14:25:07.140Z"
   },
   {
    "duration": 4,
    "start_time": "2025-02-11T14:25:07.197Z"
   },
   {
    "duration": 85,
    "start_time": "2025-02-11T14:25:07.203Z"
   },
   {
    "duration": 55,
    "start_time": "2025-02-11T14:25:07.314Z"
   },
   {
    "duration": 43,
    "start_time": "2025-02-11T14:25:07.371Z"
   },
   {
    "duration": 372,
    "start_time": "2025-02-11T14:25:07.416Z"
   },
   {
    "duration": 1243,
    "start_time": "2025-02-11T14:25:32.564Z"
   },
   {
    "duration": 3,
    "start_time": "2025-02-11T14:25:36.623Z"
   },
   {
    "duration": 1188,
    "start_time": "2025-02-11T14:25:48.804Z"
   },
   {
    "duration": 59,
    "start_time": "2025-02-11T14:25:51.252Z"
   },
   {
    "duration": 3,
    "start_time": "2025-02-11T14:25:53.495Z"
   },
   {
    "duration": 53,
    "start_time": "2025-02-11T14:25:55.949Z"
   },
   {
    "duration": 22,
    "start_time": "2025-02-11T14:25:59.619Z"
   },
   {
    "duration": 23,
    "start_time": "2025-02-11T14:26:03.638Z"
   },
   {
    "duration": 28,
    "start_time": "2025-02-11T14:26:07.796Z"
   },
   {
    "duration": 325,
    "start_time": "2025-02-11T14:26:11.868Z"
   },
   {
    "duration": 23,
    "start_time": "2025-02-11T14:28:00.338Z"
   },
   {
    "duration": 1335,
    "start_time": "2025-02-11T14:28:13.648Z"
   },
   {
    "duration": 59,
    "start_time": "2025-02-11T14:28:14.985Z"
   },
   {
    "duration": 3,
    "start_time": "2025-02-11T14:28:15.046Z"
   },
   {
    "duration": 89,
    "start_time": "2025-02-11T14:28:15.051Z"
   },
   {
    "duration": 22,
    "start_time": "2025-02-11T14:28:15.143Z"
   },
   {
    "duration": 48,
    "start_time": "2025-02-11T14:28:15.167Z"
   },
   {
    "duration": 27,
    "start_time": "2025-02-11T14:28:15.217Z"
   },
   {
    "duration": 341,
    "start_time": "2025-02-11T14:28:15.245Z"
   },
   {
    "duration": 0,
    "start_time": "2025-02-11T14:29:07.523Z"
   },
   {
    "duration": 0,
    "start_time": "2025-02-11T14:29:07.526Z"
   },
   {
    "duration": 0,
    "start_time": "2025-02-11T14:29:07.528Z"
   },
   {
    "duration": 0,
    "start_time": "2025-02-11T14:29:07.530Z"
   },
   {
    "duration": 53,
    "start_time": "2025-02-11T14:29:19.142Z"
   },
   {
    "duration": 1286,
    "start_time": "2025-02-11T14:29:23.183Z"
   },
   {
    "duration": 59,
    "start_time": "2025-02-11T14:29:25.540Z"
   },
   {
    "duration": 5,
    "start_time": "2025-02-11T14:29:27.470Z"
   },
   {
    "duration": 53,
    "start_time": "2025-02-11T14:29:29.101Z"
   },
   {
    "duration": 21,
    "start_time": "2025-02-11T14:29:33.880Z"
   },
   {
    "duration": 23,
    "start_time": "2025-02-11T14:29:37.253Z"
   },
   {
    "duration": 28,
    "start_time": "2025-02-11T14:29:40.615Z"
   },
   {
    "duration": 318,
    "start_time": "2025-02-11T14:29:45.429Z"
   },
   {
    "duration": 50307,
    "start_time": "2025-02-11T14:29:50.277Z"
   },
   {
    "duration": 13,
    "start_time": "2025-02-11T14:30:40.586Z"
   },
   {
    "duration": 71,
    "start_time": "2025-02-11T14:31:00.381Z"
   },
   {
    "duration": 11,
    "start_time": "2025-02-11T14:31:17.683Z"
   },
   {
    "duration": 9,
    "start_time": "2025-02-11T14:31:38.366Z"
   },
   {
    "duration": 9,
    "start_time": "2025-02-11T14:35:48.349Z"
   },
   {
    "duration": 8,
    "start_time": "2025-02-11T14:35:51.555Z"
   },
   {
    "duration": 14,
    "start_time": "2025-02-11T14:35:57.035Z"
   },
   {
    "duration": 9,
    "start_time": "2025-02-11T14:36:01.130Z"
   },
   {
    "duration": 89,
    "start_time": "2025-02-11T15:30:22.653Z"
   },
   {
    "duration": 15,
    "start_time": "2025-02-11T15:34:48.236Z"
   },
   {
    "duration": 28,
    "start_time": "2025-02-11T15:35:04.252Z"
   },
   {
    "duration": 21,
    "start_time": "2025-02-11T15:35:26.983Z"
   },
   {
    "duration": 26,
    "start_time": "2025-02-11T15:37:51.005Z"
   },
   {
    "duration": 26,
    "start_time": "2025-02-11T15:38:02.080Z"
   },
   {
    "duration": 22,
    "start_time": "2025-02-11T15:38:13.221Z"
   },
   {
    "duration": 24,
    "start_time": "2025-02-11T15:38:34.603Z"
   },
   {
    "duration": 76,
    "start_time": "2025-02-11T15:45:41.304Z"
   },
   {
    "duration": 30,
    "start_time": "2025-02-11T15:45:57.186Z"
   },
   {
    "duration": 83,
    "start_time": "2025-02-11T15:47:57.295Z"
   },
   {
    "duration": 16,
    "start_time": "2025-02-11T15:48:21.381Z"
   },
   {
    "duration": 18,
    "start_time": "2025-02-11T15:49:58.781Z"
   },
   {
    "duration": 33,
    "start_time": "2025-02-11T15:50:55.812Z"
   },
   {
    "duration": 66,
    "start_time": "2025-02-11T15:51:42.036Z"
   },
   {
    "duration": 113,
    "start_time": "2025-02-11T15:51:47.635Z"
   },
   {
    "duration": 33,
    "start_time": "2025-02-11T15:52:04.932Z"
   },
   {
    "duration": 49,
    "start_time": "2025-02-11T15:54:34.129Z"
   },
   {
    "duration": 47,
    "start_time": "2025-02-11T15:54:42.698Z"
   },
   {
    "duration": 18,
    "start_time": "2025-02-11T15:55:21.569Z"
   },
   {
    "duration": 20,
    "start_time": "2025-02-11T15:59:36.631Z"
   },
   {
    "duration": 75,
    "start_time": "2025-02-11T16:16:36.135Z"
   },
   {
    "duration": 77,
    "start_time": "2025-02-11T16:17:00.154Z"
   },
   {
    "duration": 55,
    "start_time": "2025-02-11T16:22:49.388Z"
   },
   {
    "duration": 62,
    "start_time": "2025-02-11T16:23:02.659Z"
   },
   {
    "duration": 1329,
    "start_time": "2025-02-11T16:23:13.353Z"
   },
   {
    "duration": 53,
    "start_time": "2025-02-11T16:23:49.748Z"
   },
   {
    "duration": 10,
    "start_time": "2025-02-11T16:24:04.552Z"
   },
   {
    "duration": 50,
    "start_time": "2025-02-11T16:24:08.602Z"
   },
   {
    "duration": 14,
    "start_time": "2025-02-11T16:24:13.277Z"
   },
   {
    "duration": 50548,
    "start_time": "2025-02-11T16:25:58.028Z"
   },
   {
    "duration": 25,
    "start_time": "2025-02-11T16:26:48.631Z"
   },
   {
    "duration": 10,
    "start_time": "2025-02-11T16:26:48.659Z"
   },
   {
    "duration": 50,
    "start_time": "2025-02-11T16:27:48.898Z"
   },
   {
    "duration": 568,
    "start_time": "2025-02-11T16:38:18.244Z"
   },
   {
    "duration": 566,
    "start_time": "2025-02-11T16:42:45.165Z"
   },
   {
    "duration": 572,
    "start_time": "2025-02-11T16:43:15.830Z"
   },
   {
    "duration": 547,
    "start_time": "2025-02-11T16:43:28.526Z"
   },
   {
    "duration": 1188,
    "start_time": "2025-02-11T16:46:58.389Z"
   },
   {
    "duration": 1531,
    "start_time": "2025-02-11T16:48:16.672Z"
   },
   {
    "duration": 1468,
    "start_time": "2025-02-11T16:48:39.400Z"
   },
   {
    "duration": 1138,
    "start_time": "2025-02-11T16:53:09.940Z"
   },
   {
    "duration": 1614,
    "start_time": "2025-02-11T16:54:10.741Z"
   },
   {
    "duration": 1260,
    "start_time": "2025-02-12T16:37:34.847Z"
   },
   {
    "duration": 65,
    "start_time": "2025-02-12T16:37:36.109Z"
   },
   {
    "duration": 30,
    "start_time": "2025-02-12T16:37:36.176Z"
   },
   {
    "duration": 134,
    "start_time": "2025-02-12T16:37:36.208Z"
   },
   {
    "duration": 23,
    "start_time": "2025-02-12T16:37:36.344Z"
   },
   {
    "duration": 47,
    "start_time": "2025-02-12T16:37:36.368Z"
   },
   {
    "duration": 35,
    "start_time": "2025-02-12T16:37:36.416Z"
   },
   {
    "duration": 403,
    "start_time": "2025-02-12T16:37:36.453Z"
   },
   {
    "duration": 50032,
    "start_time": "2025-02-12T16:37:36.858Z"
   },
   {
    "duration": 13,
    "start_time": "2025-02-12T16:38:26.893Z"
   },
   {
    "duration": 9,
    "start_time": "2025-02-12T16:38:26.908Z"
   },
   {
    "duration": 1575,
    "start_time": "2025-02-12T16:38:26.919Z"
   },
   {
    "duration": 19,
    "start_time": "2025-02-12T16:38:28.495Z"
   },
   {
    "duration": 39,
    "start_time": "2025-02-12T16:38:28.516Z"
   },
   {
    "duration": 3,
    "start_time": "2025-02-12T16:38:28.557Z"
   },
   {
    "duration": 10,
    "start_time": "2025-02-12T16:38:28.561Z"
   },
   {
    "duration": 39,
    "start_time": "2025-02-12T16:38:28.573Z"
   },
   {
    "duration": 36,
    "start_time": "2025-02-12T16:40:30.505Z"
   },
   {
    "duration": 54,
    "start_time": "2025-02-12T18:11:38.113Z"
   },
   {
    "duration": 1361,
    "start_time": "2025-02-12T18:11:49.908Z"
   },
   {
    "duration": 52,
    "start_time": "2025-02-12T18:11:52.821Z"
   },
   {
    "duration": 3,
    "start_time": "2025-02-12T18:11:54.963Z"
   },
   {
    "duration": 51,
    "start_time": "2025-02-12T18:11:57.413Z"
   },
   {
    "duration": 20,
    "start_time": "2025-02-12T18:12:02.757Z"
   },
   {
    "duration": 19,
    "start_time": "2025-02-12T18:12:07.371Z"
   },
   {
    "duration": 31,
    "start_time": "2025-02-12T18:12:11.309Z"
   },
   {
    "duration": 307,
    "start_time": "2025-02-12T18:12:16.482Z"
   },
   {
    "duration": 3,
    "start_time": "2025-02-12T18:12:45.200Z"
   },
   {
    "duration": 57,
    "start_time": "2025-02-12T18:12:48.078Z"
   },
   {
    "duration": 4,
    "start_time": "2025-02-12T18:12:50.050Z"
   },
   {
    "duration": 44,
    "start_time": "2025-02-12T18:12:52.922Z"
   },
   {
    "duration": 21,
    "start_time": "2025-02-12T18:12:57.434Z"
   },
   {
    "duration": 26,
    "start_time": "2025-02-12T18:13:01.508Z"
   },
   {
    "duration": 24,
    "start_time": "2025-02-12T18:13:05.243Z"
   },
   {
    "duration": 290,
    "start_time": "2025-02-12T18:13:09.453Z"
   },
   {
    "duration": 95,
    "start_time": "2025-02-12T18:22:22.428Z"
   },
   {
    "duration": 308,
    "start_time": "2025-02-12T18:22:34.778Z"
   },
   {
    "duration": 1153,
    "start_time": "2025-02-12T18:23:24.409Z"
   },
   {
    "duration": 54,
    "start_time": "2025-02-12T18:23:27.504Z"
   },
   {
    "duration": 4,
    "start_time": "2025-02-12T18:23:29.993Z"
   },
   {
    "duration": 45,
    "start_time": "2025-02-12T18:23:32.042Z"
   },
   {
    "duration": 27,
    "start_time": "2025-02-12T18:23:37.610Z"
   },
   {
    "duration": 29,
    "start_time": "2025-02-12T18:23:41.609Z"
   },
   {
    "duration": 31,
    "start_time": "2025-02-12T18:23:45.098Z"
   },
   {
    "duration": 319,
    "start_time": "2025-02-12T18:23:49.306Z"
   },
   {
    "duration": 49732,
    "start_time": "2025-02-12T18:23:55.608Z"
   },
   {
    "duration": 11,
    "start_time": "2025-02-12T18:24:45.342Z"
   },
   {
    "duration": 35,
    "start_time": "2025-02-12T18:24:45.355Z"
   },
   {
    "duration": 1465,
    "start_time": "2025-02-12T18:24:45.391Z"
   },
   {
    "duration": 16,
    "start_time": "2025-02-12T18:24:46.857Z"
   },
   {
    "duration": 83,
    "start_time": "2025-02-12T18:30:08.416Z"
   },
   {
    "duration": 85,
    "start_time": "2025-02-12T18:30:34.913Z"
   },
   {
    "duration": 1626,
    "start_time": "2025-02-12T18:32:12.225Z"
   },
   {
    "duration": 1553,
    "start_time": "2025-02-12T18:35:15.256Z"
   },
   {
    "duration": 1456,
    "start_time": "2025-02-12T18:38:47.966Z"
   },
   {
    "duration": 85,
    "start_time": "2025-02-12T18:45:35.077Z"
   },
   {
    "duration": 105,
    "start_time": "2025-02-12T20:52:18.211Z"
   },
   {
    "duration": 21,
    "start_time": "2025-02-12T20:52:58.080Z"
   },
   {
    "duration": 20,
    "start_time": "2025-02-12T20:53:22.686Z"
   },
   {
    "duration": 33,
    "start_time": "2025-02-12T21:04:13.950Z"
   },
   {
    "duration": 24,
    "start_time": "2025-02-12T21:04:43.381Z"
   },
   {
    "duration": 22,
    "start_time": "2025-02-12T21:05:04.287Z"
   },
   {
    "duration": 24,
    "start_time": "2025-02-12T21:05:34.278Z"
   },
   {
    "duration": 20,
    "start_time": "2025-02-12T21:07:44.413Z"
   },
   {
    "duration": 23,
    "start_time": "2025-02-12T21:08:27.407Z"
   },
   {
    "duration": 9,
    "start_time": "2025-02-12T21:14:44.403Z"
   },
   {
    "duration": 11,
    "start_time": "2025-02-12T21:28:35.639Z"
   },
   {
    "duration": 10,
    "start_time": "2025-02-12T21:33:41.638Z"
   },
   {
    "duration": 10,
    "start_time": "2025-02-12T21:34:04.023Z"
   },
   {
    "duration": 27,
    "start_time": "2025-02-12T21:38:08.916Z"
   },
   {
    "duration": 26,
    "start_time": "2025-02-12T21:39:17.852Z"
   },
   {
    "duration": 25,
    "start_time": "2025-02-12T21:44:40.224Z"
   },
   {
    "duration": 27,
    "start_time": "2025-02-12T21:45:45.403Z"
   },
   {
    "duration": 30,
    "start_time": "2025-02-12T21:55:23.512Z"
   },
   {
    "duration": 78,
    "start_time": "2025-02-12T21:55:58.461Z"
   },
   {
    "duration": 29,
    "start_time": "2025-02-12T21:56:14.546Z"
   },
   {
    "duration": 30,
    "start_time": "2025-02-12T21:57:37.195Z"
   },
   {
    "duration": 13,
    "start_time": "2025-02-12T22:11:12.236Z"
   },
   {
    "duration": 20,
    "start_time": "2025-02-12T22:12:44.139Z"
   },
   {
    "duration": 23,
    "start_time": "2025-02-12T22:13:09.319Z"
   },
   {
    "duration": 21,
    "start_time": "2025-02-12T22:15:31.099Z"
   },
   {
    "duration": 23,
    "start_time": "2025-02-12T22:15:44.272Z"
   },
   {
    "duration": 21,
    "start_time": "2025-02-12T22:17:06.211Z"
   },
   {
    "duration": 20,
    "start_time": "2025-02-12T22:19:50.554Z"
   },
   {
    "duration": 1124,
    "start_time": "2025-02-13T17:06:06.896Z"
   },
   {
    "duration": 110,
    "start_time": "2025-02-13T17:06:08.022Z"
   },
   {
    "duration": 4,
    "start_time": "2025-02-13T17:06:08.133Z"
   },
   {
    "duration": 69,
    "start_time": "2025-02-13T17:06:08.138Z"
   },
   {
    "duration": 37,
    "start_time": "2025-02-13T17:06:08.211Z"
   },
   {
    "duration": 25,
    "start_time": "2025-02-13T17:06:08.251Z"
   },
   {
    "duration": 24,
    "start_time": "2025-02-13T17:06:08.278Z"
   },
   {
    "duration": 303,
    "start_time": "2025-02-13T17:06:08.304Z"
   },
   {
    "duration": 46832,
    "start_time": "2025-02-13T17:06:08.608Z"
   },
   {
    "duration": 11,
    "start_time": "2025-02-13T17:06:55.447Z"
   },
   {
    "duration": 9,
    "start_time": "2025-02-13T17:06:55.460Z"
   },
   {
    "duration": 1454,
    "start_time": "2025-02-13T17:06:55.472Z"
   },
   {
    "duration": 47,
    "start_time": "2025-02-13T17:06:56.927Z"
   },
   {
    "duration": 122,
    "start_time": "2025-02-13T17:06:56.976Z"
   },
   {
    "duration": 0,
    "start_time": "2025-02-13T17:06:57.099Z"
   },
   {
    "duration": 1,
    "start_time": "2025-02-13T17:06:57.100Z"
   },
   {
    "duration": 0,
    "start_time": "2025-02-13T17:06:57.101Z"
   },
   {
    "duration": 32,
    "start_time": "2025-02-13T17:08:17.245Z"
   },
   {
    "duration": 52,
    "start_time": "2025-02-13T17:19:37.280Z"
   },
   {
    "duration": 6,
    "start_time": "2025-02-13T17:19:48.514Z"
   },
   {
    "duration": 1389,
    "start_time": "2025-02-13T17:19:52.957Z"
   },
   {
    "duration": 108,
    "start_time": "2025-02-13T17:19:55.885Z"
   },
   {
    "duration": 4,
    "start_time": "2025-02-13T17:19:58.460Z"
   },
   {
    "duration": 50,
    "start_time": "2025-02-13T17:20:00.351Z"
   },
   {
    "duration": 20,
    "start_time": "2025-02-13T17:20:04.991Z"
   },
   {
    "duration": 35,
    "start_time": "2025-02-13T17:20:09.111Z"
   },
   {
    "duration": 41,
    "start_time": "2025-02-13T17:20:12.700Z"
   },
   {
    "duration": 307,
    "start_time": "2025-02-13T17:20:16.209Z"
   },
   {
    "duration": 17,
    "start_time": "2025-02-13T17:20:43.108Z"
   },
   {
    "duration": 8,
    "start_time": "2025-02-13T17:20:45.955Z"
   },
   {
    "duration": 79,
    "start_time": "2025-02-13T17:20:50.252Z"
   },
   {
    "duration": 12,
    "start_time": "2025-02-13T17:21:16.740Z"
   },
   {
    "duration": 50420,
    "start_time": "2025-02-13T17:21:19.806Z"
   },
   {
    "duration": 11,
    "start_time": "2025-02-13T17:22:10.229Z"
   },
   {
    "duration": 8,
    "start_time": "2025-02-13T17:22:10.242Z"
   },
   {
    "duration": 1477,
    "start_time": "2025-02-13T17:22:10.252Z"
   },
   {
    "duration": 29,
    "start_time": "2025-02-13T17:22:11.731Z"
   },
   {
    "duration": 26,
    "start_time": "2025-02-13T17:22:49.367Z"
   },
   {
    "duration": 328,
    "start_time": "2025-02-13T17:24:49.302Z"
   },
   {
    "duration": 460,
    "start_time": "2025-02-13T17:25:08.540Z"
   },
   {
    "duration": 1090,
    "start_time": "2025-02-14T11:21:55.429Z"
   },
   {
    "duration": 49,
    "start_time": "2025-02-14T11:21:56.521Z"
   },
   {
    "duration": 3,
    "start_time": "2025-02-14T11:21:56.572Z"
   },
   {
    "duration": 54,
    "start_time": "2025-02-14T11:21:56.576Z"
   },
   {
    "duration": 18,
    "start_time": "2025-02-14T11:21:56.632Z"
   },
   {
    "duration": 24,
    "start_time": "2025-02-14T11:21:56.652Z"
   },
   {
    "duration": 23,
    "start_time": "2025-02-14T11:21:56.678Z"
   },
   {
    "duration": 374,
    "start_time": "2025-02-14T11:21:56.702Z"
   },
   {
    "duration": 45242,
    "start_time": "2025-02-14T11:21:57.077Z"
   },
   {
    "duration": 18,
    "start_time": "2025-02-14T11:22:42.321Z"
   },
   {
    "duration": 11,
    "start_time": "2025-02-14T11:22:42.341Z"
   },
   {
    "duration": 1421,
    "start_time": "2025-02-14T11:22:42.353Z"
   },
   {
    "duration": 31,
    "start_time": "2025-02-14T11:22:43.776Z"
   },
   {
    "duration": 20,
    "start_time": "2025-02-14T11:22:43.809Z"
   },
   {
    "duration": 2,
    "start_time": "2025-02-14T11:22:43.831Z"
   },
   {
    "duration": 10,
    "start_time": "2025-02-14T11:22:43.834Z"
   },
   {
    "duration": 3,
    "start_time": "2025-02-14T11:22:43.846Z"
   },
   {
    "duration": 32,
    "start_time": "2025-02-14T11:22:43.874Z"
   },
   {
    "duration": 1276,
    "start_time": "2025-03-07T18:48:18.861Z"
   },
   {
    "duration": 53,
    "start_time": "2025-03-07T18:48:21.589Z"
   },
   {
    "duration": 4,
    "start_time": "2025-03-07T18:48:24.133Z"
   },
   {
    "duration": 52,
    "start_time": "2025-03-07T18:48:26.079Z"
   }
  ],
  "kernelspec": {
   "display_name": "Python 3 (ipykernel)",
   "language": "python",
   "name": "python3"
  },
  "language_info": {
   "codemirror_mode": {
    "name": "ipython",
    "version": 3
   },
   "file_extension": ".py",
   "mimetype": "text/x-python",
   "name": "python",
   "nbconvert_exporter": "python",
   "pygments_lexer": "ipython3",
   "version": "3.9.5"
  },
  "toc": {
   "base_numbering": 1,
   "nav_menu": {},
   "number_sections": true,
   "sideBar": true,
   "skip_h1_title": true,
   "title_cell": "Table of Contents",
   "title_sidebar": "Contents",
   "toc_cell": false,
   "toc_position": {},
   "toc_section_display": true,
   "toc_window_display": false
  }
 },
 "nbformat": 4,
 "nbformat_minor": 2
}
